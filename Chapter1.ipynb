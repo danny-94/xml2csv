{
 "cells": [
  {
   "cell_type": "markdown",
   "metadata": {},
   "source": [
    "# Chapter 1. Exploratory Data Analysis"
   ]
  },
  {
   "cell_type": "markdown",
   "metadata": {},
   "source": [
    "### Elements of Structured Data\n"
   ]
  },
  {
   "cell_type": "markdown",
   "metadata": {},
   "source": [
    "#### KEY TERMS FOR DATA TYPES"
   ]
  },
  {
   "cell_type": "raw",
   "metadata": {},
   "source": [
    "Continuous\n",
    "Data that can take on any value in an interval.\n",
    "\n",
    "Synonyms\n",
    "interval, float, numeric\n",
    "\n",
    "Discrete\n",
    "Data that can take on only integer values, such as counts.\n",
    "\n",
    "Synonyms\n",
    "integer, count\n",
    "\n",
    "Categorical\n",
    "Data that can take on only a specific set of values representing a set of possible categories.\n",
    "\n",
    "Synonyms\n",
    "enums, enumerated, factors, nominal, polychotomous\n",
    "\n",
    "Binary\n",
    "A special case of categorical data with just two categories of values (0/1, true/false).\n",
    "\n",
    "Synonyms\n",
    "dichotomous, logical, indicator, boolean\n",
    "\n",
    "Ordinal\n",
    "Categorical data that has an explicit ordering.\n",
    "\n",
    "Synonyms\n",
    "ordered factor"
   ]
  },
  {
   "cell_type": "markdown",
   "metadata": {},
   "source": [
    "#### KEY IDEAS"
   ]
  },
  {
   "cell_type": "raw",
   "metadata": {},
   "source": [
    "Data is typically classified in software by type.\n",
    "\n",
    "Data types include continuous, discrete, categorical (which includes binary), and ordinal.\n",
    "\n",
    "Data typing in software acts as a signal to the software on how to process the data."
   ]
  },
  {
   "cell_type": "markdown",
   "metadata": {},
   "source": [
    "### Rectangular Data"
   ]
  },
  {
   "cell_type": "markdown",
   "metadata": {},
   "source": [
    "#### KEY TERMS FOR RECTANGULAR DATA"
   ]
  },
  {
   "cell_type": "raw",
   "metadata": {},
   "source": [
    "Data frame\n",
    "Rectangular data (like a spreadsheet) is the basic data structure for statistical and machine learning models.\n",
    "\n",
    "Feature\n",
    "A column in the table is commonly referred to as a feature.\n",
    "\n",
    "Synonyms\n",
    "attribute, input, predictor, variable\n",
    "\n",
    "Outcome\n",
    "Many data science projects involve predicting an outcome—often a yes/no outcome (in Table 1-1, it is “auction was competitive or not”). The features are sometimes used to predict the outcome in an experiment or study.\n",
    "\n",
    "Synonyms\n",
    "dependent variable, response, target, output\n",
    "\n",
    "Records\n",
    "A row in the table is commonly referred to as a record.\n",
    "\n",
    "Synonyms\n",
    "case, example, instance, observation, pattern, sample"
   ]
  },
  {
   "cell_type": "markdown",
   "metadata": {},
   "source": [
    "### Estimates of Location"
   ]
  },
  {
   "cell_type": "markdown",
   "metadata": {},
   "source": [
    "#### KEY TERMS FOR ESTIMATES OF LOCATION"
   ]
  },
  {
   "cell_type": "raw",
   "metadata": {},
   "source": [
    "Mean\n",
    "The sum of all values divided by the number of values.\n",
    "\n",
    "Synonyms\n",
    "average\n",
    "\n",
    "Weighted mean\n",
    "The sum of all values times a weight divided by the sum of the weights.\n",
    "\n",
    "Synonyms\n",
    "weighted average\n",
    "\n",
    "Median\n",
    "The value such that one-half of the data lies above and below.\n",
    "\n",
    "Synonyms\n",
    "50th percentile\n",
    "\n",
    "Weighted median\n",
    "The value such that one-half of the sum of the weights lies above and below the sorted data.\n",
    "\n",
    "Trimmed mean\n",
    "The average of all values after dropping a fixed number of extreme values.\n",
    "\n",
    "Synonyms\n",
    "truncated mean\n",
    "\n",
    "Robust\n",
    "Not sensitive to extreme values.\n",
    "\n",
    "Synonyms\n",
    "resistant\n",
    "\n",
    "Outlier\n",
    "A data value that is very different from most of the data.\n",
    "\n",
    "Synonyms\n",
    "extreme value"
   ]
  },
  {
   "cell_type": "code",
   "execution_count": 7,
   "metadata": {
    "collapsed": false
   },
   "outputs": [],
   "source": [
    "fold_path  = r'C:\\Users\\966317\\Desktop\\statistics-for-data-scientists-master\\statistics-for-data-scientists\\data'\n",
    "import os\n",
    "state_file_path = os.path.join(fold_path,'state.csv')"
   ]
  },
  {
   "cell_type": "code",
   "execution_count": 10,
   "metadata": {
    "collapsed": true
   },
   "outputs": [],
   "source": [
    "import pandas as pd\n",
    "df_state = pd.read_csv(state_file_path)"
   ]
  },
  {
   "cell_type": "markdown",
   "metadata": {},
   "source": [
    "##### Finding Mean"
   ]
  },
  {
   "cell_type": "code",
   "execution_count": 11,
   "metadata": {
    "collapsed": false
   },
   "outputs": [
    {
     "data": {
      "text/plain": [
       "(6162876.3, 6162876.3)"
      ]
     },
     "execution_count": 11,
     "metadata": {},
     "output_type": "execute_result"
    }
   ],
   "source": [
    "import numpy as np\n",
    "# 2 ways to find mean are\n",
    "np.mean(df_state['Population']),df_state['Population'].mean()"
   ]
  },
  {
   "cell_type": "markdown",
   "metadata": {},
   "source": [
    "##### Finding Trimmed mean"
   ]
  },
  {
   "cell_type": "code",
   "execution_count": 12,
   "metadata": {
    "collapsed": false
   },
   "outputs": [
    {
     "data": {
      "text/plain": [
       "4783697.125"
      ]
     },
     "execution_count": 12,
     "metadata": {},
     "output_type": "execute_result"
    }
   ],
   "source": [
    "from scipy.stats import trim_mean\n",
    "trim_mean(df_state['Population'],0.1)"
   ]
  },
  {
   "cell_type": "markdown",
   "metadata": {},
   "source": [
    "##### Finding Median"
   ]
  },
  {
   "cell_type": "code",
   "execution_count": 13,
   "metadata": {
    "collapsed": false
   },
   "outputs": [
    {
     "data": {
      "text/plain": [
       "4436369.5"
      ]
     },
     "execution_count": 13,
     "metadata": {},
     "output_type": "execute_result"
    }
   ],
   "source": [
    "from numpy import median\n",
    "median(df_state['Population'])"
   ]
  },
  {
   "cell_type": "markdown",
   "metadata": {},
   "source": [
    "##### Finding Weighted mean"
   ]
  },
  {
   "cell_type": "code",
   "execution_count": 14,
   "metadata": {
    "collapsed": false
   },
   "outputs": [
    {
     "data": {
      "text/plain": [
       "4.4458339811233927"
      ]
     },
     "execution_count": 14,
     "metadata": {},
     "output_type": "execute_result"
    }
   ],
   "source": [
    "from numpy import average\n",
    "average(df_state['Murder.Rate'], weights=df_state['Population'])"
   ]
  },
  {
   "cell_type": "markdown",
   "metadata": {},
   "source": [
    "##### Finding Weighted median"
   ]
  },
  {
   "cell_type": "code",
   "execution_count": 18,
   "metadata": {
    "collapsed": false
   },
   "outputs": [
    {
     "data": {
      "text/plain": [
       "4.4000000000000004"
      ]
     },
     "execution_count": 18,
     "metadata": {},
     "output_type": "execute_result"
    }
   ],
   "source": [
    "import weightedstats as ws\n",
    "ws.weighted_median(df_state['Murder.Rate'], weights=df_state['Population'])"
   ]
  },
  {
   "cell_type": "markdown",
   "metadata": {},
   "source": [
    "##### KEY IDEAS"
   ]
  },
  {
   "cell_type": "raw",
   "metadata": {},
   "source": [
    "The basic metric for location is the mean, but it can be sensitive to extreme values (outlier).\n",
    "\n",
    "Other metrics (median, trimmed mean) are more robust."
   ]
  },
  {
   "cell_type": "markdown",
   "metadata": {},
   "source": [
    "### Estimates of Variability"
   ]
  },
  {
   "cell_type": "markdown",
   "metadata": {},
   "source": [
    "##### KEY TERMS FOR VARIABILITY METRICS"
   ]
  },
  {
   "cell_type": "raw",
   "metadata": {},
   "source": [
    "Deviations\n",
    "The difference between the observed values and the estimate of location.\n",
    "\n",
    "Synonyms\n",
    "errors, residuals\n",
    "\n",
    "Variance\n",
    "The sum of squared deviations from the mean divided by n – 1 where n is the number of data values.\n",
    "\n",
    "Synonyms\n",
    "mean-squared-error\n",
    "\n",
    "Standard deviation\n",
    "The square root of the variance.\n",
    "\n",
    "Synonyms\n",
    "l2-norm, Euclidean norm\n",
    "\n",
    "Mean absolute deviation\n",
    "The mean of the absolute value of the deviations from the mean.\n",
    "\n",
    "Synonyms\n",
    "l1-norm, Manhattan norm\n",
    "\n",
    "Median absolute deviation from the median\n",
    "The median of the absolute value of the deviations from the median.\n",
    "\n",
    "Range\n",
    "The difference between the largest and the smallest value in a data set.\n",
    "\n",
    "Order statistics\n",
    "Metrics based on the data values sorted from smallest to biggest.\n",
    "\n",
    "Synonyms\n",
    "ranks\n",
    "\n",
    "Percentile\n",
    "The value such that P percent of the values take on this value or less and (100–P) percent take on this value or more.\n",
    "\n",
    "Synonyms\n",
    "quantile\n",
    "\n",
    "Interquartile range\n",
    "The difference between the 75th percentile and the 25th percentile.\n",
    "\n",
    "Synonyms\n",
    "IQR"
   ]
  },
  {
   "cell_type": "markdown",
   "metadata": {},
   "source": [
    "##### Finding Standard Deviation"
   ]
  },
  {
   "cell_type": "code",
   "execution_count": 20,
   "metadata": {
    "collapsed": false
   },
   "outputs": [
    {
     "data": {
      "text/plain": [
       "Population    6.779407e+06\n",
       "dtype: float64"
      ]
     },
     "execution_count": 20,
     "metadata": {},
     "output_type": "execute_result"
    }
   ],
   "source": [
    "from numpy import std\n",
    "std(df_state[[\"Population\"]])"
   ]
  },
  {
   "cell_type": "markdown",
   "metadata": {},
   "source": [
    "##### Finding IQR"
   ]
  },
  {
   "cell_type": "code",
   "execution_count": 21,
   "metadata": {
    "collapsed": false
   },
   "outputs": [
    {
     "data": {
      "text/plain": [
       "4847308.0"
      ]
     },
     "execution_count": 21,
     "metadata": {},
     "output_type": "execute_result"
    }
   ],
   "source": [
    "from scipy.stats import iqr\n",
    "iqr(df_state[[\"Population\"]])"
   ]
  },
  {
   "cell_type": "markdown",
   "metadata": {},
   "source": [
    "##### Finding Mean absolute deviation"
   ]
  },
  {
   "cell_type": "code",
   "execution_count": 33,
   "metadata": {
    "collapsed": false
   },
   "outputs": [
    {
     "data": {
      "text/plain": [
       "4450933.3560000006"
      ]
     },
     "execution_count": 33,
     "metadata": {},
     "output_type": "execute_result"
    }
   ],
   "source": [
    "from numpy import mean, absolute\n",
    "\n",
    "def mean_ad(data, axis=None):\n",
    "    return mean(absolute(data - mean(data, axis)), axis)\n",
    "mean_ad(df_state[\"Population\"].values)"
   ]
  },
  {
   "cell_type": "code",
   "execution_count": 34,
   "metadata": {
    "collapsed": false
   },
   "outputs": [
    {
     "data": {
      "text/plain": [
       "4450933.356000001"
      ]
     },
     "execution_count": 34,
     "metadata": {},
     "output_type": "execute_result"
    }
   ],
   "source": [
    "df_state[\"Population\"].mad()"
   ]
  },
  {
   "cell_type": "markdown",
   "metadata": {},
   "source": [
    "##### Finding Median absolute deviation"
   ]
  },
  {
   "cell_type": "code",
   "execution_count": 37,
   "metadata": {
    "collapsed": false
   },
   "outputs": [
    {
     "data": {
      "text/plain": [
       "3430658.2999999998"
      ]
     },
     "execution_count": 37,
     "metadata": {},
     "output_type": "execute_result"
    }
   ],
   "source": [
    "from numpy import median, absolute\n",
    "\n",
    "def median_ad(data, axis=None):\n",
    "    return median(absolute(data - mean(data, axis)), axis)\n",
    "median_ad(df_state[\"Population\"].values)"
   ]
  },
  {
   "cell_type": "code",
   "execution_count": 38,
   "metadata": {
    "collapsed": false
   },
   "outputs": [
    {
     "data": {
      "text/plain": [
       "2596702.0"
      ]
     },
     "execution_count": 38,
     "metadata": {},
     "output_type": "execute_result"
    }
   ],
   "source": [
    "from astropy.stats import median_absolute_deviation\n",
    "median_absolute_deviation(df_state[\"Population\"].values)"
   ]
  },
  {
   "cell_type": "markdown",
   "metadata": {},
   "source": [
    "##### KEY IDEAS"
   ]
  },
  {
   "cell_type": "raw",
   "metadata": {},
   "source": [
    "The variance and standard deviation are the most widespread and routinely reported statistics of variability.\n",
    "\n",
    "Both are sensitive to outliers.\n",
    "\n",
    "More robust metrics include mean and median absolute deviations from the mean and percentiles (quantiles)."
   ]
  },
  {
   "cell_type": "markdown",
   "metadata": {},
   "source": [
    "### Exploring the Data Distribution"
   ]
  },
  {
   "cell_type": "markdown",
   "metadata": {},
   "source": [
    "##### KEY TERMS FOR EXPLORING THE DISTRIBUTION"
   ]
  },
  {
   "cell_type": "raw",
   "metadata": {},
   "source": [
    "Boxplot\n",
    "A plot introduced by Tukey as a quick way to visualize the distribution of data.\n",
    "\n",
    "Synonyms\n",
    "Box and whiskers plot\n",
    "\n",
    "Frequency table\n",
    "A tally of the count of numeric data values that fall into a set of intervals (bins).\n",
    "\n",
    "Histogram\n",
    "A plot of the frequency table with the bins on the x-axis and the count (or proportion) on the y-axis.\n",
    "\n",
    "Density plot\n",
    "A smoothed version of the histogram, often based on a kernal density estimate."
   ]
  },
  {
   "cell_type": "markdown",
   "metadata": {},
   "source": [
    "##### Percentile"
   ]
  },
  {
   "cell_type": "code",
   "execution_count": 41,
   "metadata": {
    "collapsed": false
   },
   "outputs": [
    {
     "data": {
      "text/plain": [
       "0.05    1.600\n",
       "0.25    2.425\n",
       "0.50    4.000\n",
       "0.75    5.550\n",
       "0.95    6.510\n",
       "Name: Murder.Rate, dtype: float64"
      ]
     },
     "execution_count": 41,
     "metadata": {},
     "output_type": "execute_result"
    }
   ],
   "source": [
    "df_state['Murder.Rate'].quantile([.05, .25, .5, .75, .95])"
   ]
  },
  {
   "cell_type": "markdown",
   "metadata": {},
   "source": [
    "##### Boxplot"
   ]
  },
  {
   "cell_type": "code",
   "execution_count": 50,
   "metadata": {
    "collapsed": false,
    "scrolled": false
   },
   "outputs": [
    {
     "data": {
      "text/plain": [
       "<matplotlib.axes._subplots.AxesSubplot at 0xe5a2518>"
      ]
     },
     "execution_count": 50,
     "metadata": {},
     "output_type": "execute_result"
    },
    {
     "data": {
      "image/png": "[encoded data removed]",
      "text/plain": [
       "<matplotlib.figure.Figure at 0xe667908>"
      ]
     },
     "metadata": {},
     "output_type": "display_data"
    }
   ],
   "source": [
    "%matplotlib inline\n",
    "import matplotlib.pyplot as plt\n",
    "plt.style.use('ggplot')\n",
    "df_state[\"Population\"].plot(kind='box')"
   ]
  },
  {
   "cell_type": "markdown",
   "metadata": {},
   "source": [
    "##### Frequency Table"
   ]
  },
  {
   "cell_type": "code",
   "execution_count": 69,
   "metadata": {
    "collapsed": false
   },
   "outputs": [
    {
     "data": {
      "text/plain": [
       "[526935.67, 3899110.545]        24\n",
       "(3899110.545, 7234595.0909]     14\n",
       "(7234595.0909, 10570079.636]     5\n",
       "(10570079.636, 13905564.182]     3\n",
       "(13905564.182, 17241048.727]     0\n",
       "(17241048.727, 20576533.273]     2\n",
       "(20576533.273, 23912017.818]     0\n",
       "(23912017.818, 27247502.364]     1\n",
       "(27247502.364, 30582986.909]     0\n",
       "(30582986.909, 33918471.455]     0\n",
       "(33918471.455, 37253956]         1\n",
       "dtype: int64"
      ]
     },
     "execution_count": 69,
     "metadata": {},
     "output_type": "execute_result"
    }
   ],
   "source": [
    "breaks = pd.cut(np.array(df_state[\"Population\"]), 11, right=True, include_lowest=True)\n",
    "breaks.value_counts()"
   ]
  },
  {
   "cell_type": "markdown",
   "metadata": {},
   "source": [
    "### Histogram"
   ]
  },
  {
   "cell_type": "code",
   "execution_count": 68,
   "metadata": {
    "collapsed": false
   },
   "outputs": [
    {
     "data": {
      "text/plain": [
       "Index([u'(526935.67, 3899110.545]', u'(3899110.545, 7234595.0909]',\n",
       "       u'(7234595.0909, 10570079.636]', u'(10570079.636, 13905564.182]',\n",
       "       u'(13905564.182, 17241048.727]', u'(17241048.727, 20576533.273]',\n",
       "       u'(20576533.273, 23912017.818]', u'(23912017.818, 27247502.364]',\n",
       "       u'(27247502.364, 30582986.909]', u'(30582986.909, 33918471.455]',\n",
       "       u'(33918471.455, 37253956]'],\n",
       "      dtype='object')"
      ]
     },
     "execution_count": 68,
     "metadata": {},
     "output_type": "execute_result"
    }
   ],
   "source": [
    "breaks.categories\n",
    "# plt.hist(breaks)"
   ]
  }
 ],
 "metadata": {
  "kernelspec": {
   "display_name": "Python 2",
   "language": "python",
   "name": "python2"
  },
  "language_info": {
   "codemirror_mode": {
    "name": "ipython",
    "version": 2
   },
   "file_extension": ".py",
   "mimetype": "text/x-python",
   "name": "python",
   "nbconvert_exporter": "python",
   "pygments_lexer": "ipython2",
   "version": "2.7.13"
  }
 },
 "nbformat": 4,
 "nbformat_minor": 2
}
